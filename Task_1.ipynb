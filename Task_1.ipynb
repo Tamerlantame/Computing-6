{
 "cells": [
  {
   "cell_type": "code",
   "execution_count": 95,
   "metadata": {},
   "outputs": [],
   "source": [
    "import numpy as np\n",
    "import pandas as pd\n",
    "from scipy.linalg import solve"
   ]
  },
  {
   "cell_type": "code",
   "execution_count": 96,
   "metadata": {},
   "outputs": [],
   "source": [
    "def Ncond(A):\n",
    "#Спектральный критерий обусловленности\n",
    "    normA=np.linalg.norm(A, ord=1)\n",
    "    A_1=np.linalg.inv(A)\n",
    "    normA_1=np.linalg.norm(A_1, ord=1)\n",
    "    conds=normA*normA_1\n",
    "#Объемный критерий (критерий Ортеги)\n",
    "    number=len(A)\n",
    "    condv=1\n",
    "    for i in range(number):\n",
    "        colsum=0\n",
    "        for j in range(number):\n",
    "            colsum=colsum+A[i][j]\n",
    "        colsum=np.sqrt(colsum)\n",
    "        condv=condv*colsum\n",
    "    detA=abs(np.linalg.det(A))\n",
    "    condv=condv/detA\n",
    "#Угловой критерий\n",
    "    pros=[]\n",
    "    for i in range(number):\n",
    "        Asum=0\n",
    "        A_1sum=0\n",
    "        for j in range(number):\n",
    "            Asum=Asum+A[i][j]*A[i][j]\n",
    "            A_1sum=Asum+A_1[i][j]*A_1[i][j]\n",
    "        pros.append(np.sqrt(Asum*A_1sum))\n",
    "    conda=max(pros)\n",
    "    \n",
    "    cond=[]\n",
    "    cond.append(conds)\n",
    "    cond.append(condv)\n",
    "    cond.append(conda)\n",
    "    return cond"
   ]
  },
  {
   "cell_type": "code",
   "execution_count": 97,
   "metadata": {},
   "outputs": [],
   "source": [
    "def Vari(A,B,number):\n",
    "#Варируем матрицу A, number - степень 10\n",
    "    variA = [[0 for j in range(len(A))] for i in range(len(A))]\n",
    "    for i in range (len(variA)):\n",
    "        for j in range(len(variA)):\n",
    "            variA[i][j]=A[i][j]\n",
    "            variA[i][j]=round(variA[i][j],number)\n",
    "#варируем b\n",
    "    varib = [0 for j in range(len(B))]\n",
    "    for k in range(len(varib)):\n",
    "        varib[k]=B[k]\n",
    "        varib[k]=round(varib[k],number)\n",
    "#Сравниваем x и x~\n",
    "    x=solve(A,B)\n",
    "    varix=solve(variA,varib)\n",
    "    sum=0\n",
    "    for g in range (len(varix)):\n",
    "        sum=sum+abs(x[g]-varix[g])**2\n",
    "    sum=np.sqrt(sum)\n",
    "    res=sum\n",
    "    return res"
   ]
  },
  {
   "cell_type": "code",
   "execution_count": 98,
   "metadata": {},
   "outputs": [],
   "source": [
    "def Filling(A,B):\n",
    "    res=Ncond(A)\n",
    "    conds=['Спектральный критерий','Объемный критерий','Угловой критерий']\n",
    "    data = {'--':[],'cond(A)': [], 'round number': [], '|x-~x|': []}\n",
    "    df = pd.DataFrame(data)\n",
    "    \n",
    "    for j in range(3):\n",
    "        new_row = pd.DataFrame({'--':conds[j],'cond(A)':res[j]}, index=[0])\n",
    "        df=pd.concat([df, new_row])\n",
    "    \n",
    "    for i in range(10):\n",
    "        res=Vari(A,B,10-i)\n",
    "        new_row = pd.DataFrame({'round number':10-i,'|x-~x|':res}, index=[0])\n",
    "        df=pd.concat([df, new_row])\n",
    "    print(df)"
   ]
  },
  {
   "cell_type": "code",
   "execution_count": 109,
   "metadata": {},
   "outputs": [],
   "source": [
    "#hilbert matrix n=5\n",
    "number=4\n",
    "a = [[0 for j in range(number)] for i in range(number)]\n",
    "for i in range (number):\n",
    "    for j in range(number):\n",
    "        a[i][j]=1/(i+j+1)\n",
    "b=[0 for k in range(number)]\n",
    "for i in range (number):\n",
    "    b[i]=1-1/(i+3)"
   ]
  },
  {
   "cell_type": "code",
   "execution_count": 110,
   "metadata": {},
   "outputs": [
    {
     "name": "stdout",
     "output_type": "stream",
     "text": [
      "                      --       cond(A)  round number      |x-~x|\n",
      "0  Спектральный критерий  2.837500e+04           NaN         NaN\n",
      "0      Объемный критерий  8.400273e+06           NaN         NaN\n",
      "0       Угловой критерий  2.063516e+03           NaN         NaN\n",
      "0                    NaN           NaN          10.0    0.000048\n",
      "0                    NaN           NaN           9.0    0.000692\n",
      "0                    NaN           NaN           8.0    0.010111\n",
      "0                    NaN           NaN           7.0    0.111798\n",
      "0                    NaN           NaN           6.0    0.908005\n",
      "0                    NaN           NaN           5.0    6.007388\n",
      "0                    NaN           NaN           4.0   61.226794\n",
      "0                    NaN           NaN           3.0  354.821821\n",
      "0                    NaN           NaN           2.0  254.155727\n",
      "0                    NaN           NaN           1.0  235.176529\n"
     ]
    }
   ],
   "source": [
    "Filling(a,b)"
   ]
  },
  {
   "cell_type": "code",
   "execution_count": 111,
   "metadata": {},
   "outputs": [],
   "source": [
    "#hilbert matrix n=6\n",
    "number=6\n",
    "a = [[0 for j in range(number)] for i in range(number)]\n",
    "for i in range (number):\n",
    "    for j in range(number):\n",
    "        a[i][j]=1/(i+j+1)\n",
    "b=[0 for k in range(number)]\n",
    "for i in range (number):\n",
    "    b[i]=1-1/(i+3)"
   ]
  },
  {
   "cell_type": "code",
   "execution_count": 112,
   "metadata": {},
   "outputs": [
    {
     "name": "stdout",
     "output_type": "stream",
     "text": [
      "                      --       cond(A)  round number        |x-~x|\n",
      "0  Спектральный критерий  2.907028e+07           NaN           NaN\n",
      "0      Объемный критерий  3.198561e+17           NaN           NaN\n",
      "0       Угловой критерий  6.561314e+05           NaN           NaN\n",
      "0                    NaN           NaN          10.0      0.725127\n",
      "0                    NaN           NaN           9.0      7.278866\n",
      "0                    NaN           NaN           8.0    335.486866\n",
      "0                    NaN           NaN           7.0   7513.451404\n",
      "0                    NaN           NaN           6.0  12305.350895\n",
      "0                    NaN           NaN           5.0   2878.977843\n",
      "0                    NaN           NaN           4.0   8830.219114\n",
      "0                    NaN           NaN           3.0   8836.413897\n",
      "0                    NaN           NaN           2.0   8687.027640\n",
      "0                    NaN           NaN           1.0   8696.044281\n"
     ]
    }
   ],
   "source": [
    "Filling(a,b)"
   ]
  },
  {
   "cell_type": "code",
   "execution_count": 130,
   "metadata": {},
   "outputs": [],
   "source": [
    "data = [[4,2,0,0],\n",
    "        [2,5,2,0],\n",
    "        [0,2,6,2],\n",
    "        [0,0,2,7]]\n",
    "number = np.array(data).shape[0]\n",
    "b=[0 for k in range(number)]\n",
    "for i in range(number):\n",
    "    b[i]=1-1/(i+3)\n"
   ]
  },
  {
   "cell_type": "code",
   "execution_count": 131,
   "metadata": {},
   "outputs": [
    {
     "name": "stdout",
     "output_type": "stream",
     "text": [
      "                      --    cond(A)  round number        |x-~x|\n",
      "0  Спектральный критерий   6.048387           NaN           NaN\n",
      "0      Объемный критерий   0.140552           NaN           NaN\n",
      "0       Угловой критерий  53.013006           NaN           NaN\n",
      "0                    NaN        NaN          10.0  1.483187e-11\n",
      "0                    NaN        NaN           9.0  1.483191e-10\n",
      "0                    NaN        NaN           8.0  1.483191e-09\n",
      "0                    NaN        NaN           7.0  1.483191e-08\n",
      "0                    NaN        NaN           6.0  1.483191e-07\n",
      "0                    NaN        NaN           5.0  1.483191e-06\n",
      "0                    NaN        NaN           4.0  1.483191e-05\n",
      "0                    NaN        NaN           3.0  1.483191e-04\n",
      "0                    NaN        NaN           2.0  1.483191e-03\n",
      "0                    NaN        NaN           1.0  1.089953e-02\n"
     ]
    }
   ],
   "source": [
    "Filling(data,b)"
   ]
  },
  {
   "cell_type": "code",
   "execution_count": 132,
   "metadata": {},
   "outputs": [],
   "source": [
    "data =  [[44,2,0,22],\n",
    "        [2,5,19,88],\n",
    "        [11,2,25,2],\n",
    "        [45,0,2,3]]\n",
    "number = np.array(data).shape[0]\n",
    "b=[0 for k in range(number)]\n",
    "for i in range(number):\n",
    "    b[i]=1-1/(i+3)\n"
   ]
  },
  {
   "cell_type": "code",
   "execution_count": 133,
   "metadata": {},
   "outputs": [
    {
     "name": "stdout",
     "output_type": "stream",
     "text": [
      "                      --      cond(A)  round number        |x-~x|\n",
      "0  Спектральный критерий    95.927818           NaN           NaN\n",
      "0      Объемный критерий     0.029410           NaN           NaN\n",
      "0       Угловой критерий  8134.271324           NaN           NaN\n",
      "0                    NaN          NaN          10.0  4.858614e-11\n",
      "0                    NaN          NaN           9.0  4.858629e-10\n",
      "0                    NaN          NaN           8.0  4.858630e-09\n",
      "0                    NaN          NaN           7.0  4.858630e-08\n",
      "0                    NaN          NaN           6.0  4.858630e-07\n",
      "0                    NaN          NaN           5.0  4.858630e-06\n",
      "0                    NaN          NaN           4.0  4.858630e-05\n",
      "0                    NaN          NaN           3.0  4.858630e-04\n",
      "0                    NaN          NaN           2.0  4.858630e-03\n",
      "0                    NaN          NaN           1.0  4.064378e-02\n"
     ]
    }
   ],
   "source": [
    "Filling(data,b)"
   ]
  },
  {
   "cell_type": "code",
   "execution_count": 123,
   "metadata": {},
   "outputs": [],
   "source": [
    "data =  [[5, -1, 0, 0, 0, 0 ],\n",
    "         [-1, 5, -1, 0, 0, 0],\n",
    "         [0, -1, 5, -1, 0, 0],\n",
    "         [0, 0, -1, 5, -1, 0],\n",
    "         [0, 0, 0, -1, 5, -1],\n",
    "         [0, 0, 0, 0, -1, 5]]\n",
    "number = np.array(data).shape[0]\n",
    "b=[0 for k in range(number)]\n",
    "for i in range(number):\n",
    "    b[i]=1-1/(i+3)"
   ]
  },
  {
   "cell_type": "code",
   "execution_count": 124,
   "metadata": {},
   "outputs": [
    {
     "name": "stdout",
     "output_type": "stream",
     "text": [
      "                      --    cond(A)  round number        |x-~x|\n",
      "0  Спектральный критерий   2.307692           NaN           NaN\n",
      "0      Объемный критерий   0.002846           NaN           NaN\n",
      "0       Угловой критерий  27.000949           NaN           NaN\n",
      "0                    NaN        NaN          10.0  1.603201e-11\n",
      "0                    NaN        NaN           9.0  1.159331e-10\n",
      "0                    NaN        NaN           8.0  1.039778e-09\n",
      "0                    NaN        NaN           7.0  1.189068e-08\n",
      "0                    NaN        NaN           6.0  9.790738e-08\n",
      "0                    NaN        NaN           5.0  1.360906e-06\n",
      "0                    NaN        NaN           4.0  1.603206e-05\n",
      "0                    NaN        NaN           3.0  1.159331e-04\n",
      "0                    NaN        NaN           2.0  1.602481e-03\n",
      "0                    NaN        NaN           1.0  1.950106e-02\n"
     ]
    }
   ],
   "source": [
    "Filling(data,b)"
   ]
  }
 ],
 "metadata": {
  "interpreter": {
   "hash": "26de051ba29f2982a8de78e945f0abaf191376122a1563185a90213a26c5da77"
  },
  "kernelspec": {
   "display_name": "Python 3.10.4 64-bit",
   "language": "python",
   "name": "python3"
  },
  "language_info": {
   "codemirror_mode": {
    "name": "ipython",
    "version": 3
   },
   "file_extension": ".py",
   "mimetype": "text/x-python",
   "name": "python",
   "nbconvert_exporter": "python",
   "pygments_lexer": "ipython3",
   "version": "3.10.4"
  },
  "orig_nbformat": 4
 },
 "nbformat": 4,
 "nbformat_minor": 2
}
