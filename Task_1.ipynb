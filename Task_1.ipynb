{
 "cells": [
  {
   "cell_type": "code",
   "execution_count": 33,
   "metadata": {},
   "outputs": [],
   "source": [
    "import numpy as np\n",
    "import pandas as pd\n",
    "from scipy.linalg import solve"
   ]
  },
  {
   "cell_type": "code",
   "execution_count": 46,
   "metadata": {},
   "outputs": [],
   "source": [
    "def Ncond(A):\n",
    "#Спектральный критерий обусловленности\n",
    "    normA=np.linalg.norm(A, ord=1)\n",
    "    A_1=np.linalg.inv(A)\n",
    "    normA_1=np.linalg.norm(A_1, ord=1)\n",
    "    conds=normA*normA_1\n",
    "#Объемный критерий (критерий Ортеги)\n",
    "    number=len(A)\n",
    "    condv=1\n",
    "    for i in range(number):\n",
    "        colsum=0\n",
    "        for j in range(number):\n",
    "            colsum=colsum+A[i][j]\n",
    "        colsum=np.sqrt(colsum)\n",
    "        condv=condv*colsum\n",
    "    detA=abs(np.linalg.det(A))\n",
    "    condv=condv/detA\n",
    "#Угловой критерий\n",
    "    pros=[]\n",
    "    for i in range(number):\n",
    "        Asum=0\n",
    "        A_1sum=0\n",
    "        for j in range(number):\n",
    "            Asum=Asum+A[i][j]*A[i][j]\n",
    "            A_1sum=Asum+A_1[i][j]*A_1[i][j]\n",
    "        pros.append(np.sqrt(Asum*A_1sum))\n",
    "    conda=max(pros)\n",
    "    \n",
    "    cond=[]\n",
    "    cond.append(conds)\n",
    "    cond.append(condv)\n",
    "    cond.append(conda)\n",
    "    return cond"
   ]
  },
  {
   "cell_type": "code",
   "execution_count": 35,
   "metadata": {},
   "outputs": [],
   "source": [
    "def Vari(A,B,number):\n",
    "    #varying matrix A, number - power of 10\n",
    "    variA = [[0 for j in range(len(A))] for i in range(len(A))]\n",
    "    for i in range (len(variA)):\n",
    "        for j in range(len(variA)):\n",
    "            variA[i][j]=A[i][j]\n",
    "            variA[i][j]=round(variA[i][j],number)\n",
    "#varying b\n",
    "    varib = [0 for j in range(len(B))]\n",
    "    for k in range(len(varib)):\n",
    "        varib[k]=B[k]\n",
    "        varib[k]=round(varib[k],number)\n",
    "#comparing x and x~\n",
    "    x=solve(A,B)\n",
    "    varix=solve(variA,varib)\n",
    "    sum=0\n",
    "    for g in range (len(varix)):\n",
    "        sum=sum+abs(x[g]-varix[g])**2\n",
    "    sum=np.sqrt(sum)\n",
    "    res=sum\n",
    "    return res"
   ]
  },
  {
   "cell_type": "code",
   "execution_count": 52,
   "metadata": {},
   "outputs": [],
   "source": [
    "def Filling(A,B):\n",
    "    res=Ncond(A)\n",
    "    conds=['Спектральный критерий','Объемный критерий','Угловой критерий']\n",
    "    data = {'--':[],'cond(A)': [], 'round number': [], '|x-~x|': []}\n",
    "    df = pd.DataFrame(data)\n",
    "    \n",
    "    for j in range(3):\n",
    "        new_row = pd.DataFrame({'--':conds[j],'cond(A)':res[j]}, index=[0])\n",
    "        df=pd.concat([df, new_row])\n",
    "    \n",
    "    for i in range(10):\n",
    "        res=Vari(A,B,10-i)\n",
    "        new_row = pd.DataFrame({'round number':10-i,'|x-~x|':res}, index=[0])\n",
    "        df=pd.concat([df, new_row])\n",
    "    print(df)"
   ]
  },
  {
   "cell_type": "code",
   "execution_count": 37,
   "metadata": {},
   "outputs": [],
   "source": [
    "#hilbert matrix n=6\n",
    "number=6\n",
    "a = [[0 for j in range(number)] for i in range(number)]\n",
    "for i in range (number):\n",
    "    for j in range(number):\n",
    "        a[i][j]=1/(i+j+1)\n",
    "b=[0 for k in range(number)]\n",
    "for i in range (number):\n",
    "    b[i]=1-1/(i+3)"
   ]
  },
  {
   "cell_type": "code",
   "execution_count": 38,
   "metadata": {},
   "outputs": [
    {
     "data": {
      "text/plain": [
       "8696.044280563334"
      ]
     },
     "execution_count": 38,
     "metadata": {},
     "output_type": "execute_result"
    }
   ],
   "source": [
    "Vari(a,b,1)"
   ]
  },
  {
   "cell_type": "code",
   "execution_count": 48,
   "metadata": {},
   "outputs": [
    {
     "data": {
      "text/html": [
       "<div>\n",
       "<style scoped>\n",
       "    .dataframe tbody tr th:only-of-type {\n",
       "        vertical-align: middle;\n",
       "    }\n",
       "\n",
       "    .dataframe tbody tr th {\n",
       "        vertical-align: top;\n",
       "    }\n",
       "\n",
       "    .dataframe thead th {\n",
       "        text-align: right;\n",
       "    }\n",
       "</style>\n",
       "<table border=\"1\" class=\"dataframe\">\n",
       "  <thead>\n",
       "    <tr style=\"text-align: right;\">\n",
       "      <th></th>\n",
       "      <th>0</th>\n",
       "      <th>1</th>\n",
       "      <th>2</th>\n",
       "      <th>3</th>\n",
       "      <th>4</th>\n",
       "      <th>5</th>\n",
       "    </tr>\n",
       "  </thead>\n",
       "  <tbody>\n",
       "    <tr>\n",
       "      <th>0</th>\n",
       "      <td>1.000000</td>\n",
       "      <td>0.500000</td>\n",
       "      <td>0.333333</td>\n",
       "      <td>0.250000</td>\n",
       "      <td>0.200000</td>\n",
       "      <td>0.166667</td>\n",
       "    </tr>\n",
       "    <tr>\n",
       "      <th>1</th>\n",
       "      <td>0.500000</td>\n",
       "      <td>0.333333</td>\n",
       "      <td>0.250000</td>\n",
       "      <td>0.200000</td>\n",
       "      <td>0.166667</td>\n",
       "      <td>0.142857</td>\n",
       "    </tr>\n",
       "    <tr>\n",
       "      <th>2</th>\n",
       "      <td>0.333333</td>\n",
       "      <td>0.250000</td>\n",
       "      <td>0.200000</td>\n",
       "      <td>0.166667</td>\n",
       "      <td>0.142857</td>\n",
       "      <td>0.125000</td>\n",
       "    </tr>\n",
       "    <tr>\n",
       "      <th>3</th>\n",
       "      <td>0.250000</td>\n",
       "      <td>0.200000</td>\n",
       "      <td>0.166667</td>\n",
       "      <td>0.142857</td>\n",
       "      <td>0.125000</td>\n",
       "      <td>0.111111</td>\n",
       "    </tr>\n",
       "    <tr>\n",
       "      <th>4</th>\n",
       "      <td>0.200000</td>\n",
       "      <td>0.166667</td>\n",
       "      <td>0.142857</td>\n",
       "      <td>0.125000</td>\n",
       "      <td>0.111111</td>\n",
       "      <td>0.100000</td>\n",
       "    </tr>\n",
       "    <tr>\n",
       "      <th>5</th>\n",
       "      <td>0.166667</td>\n",
       "      <td>0.142857</td>\n",
       "      <td>0.125000</td>\n",
       "      <td>0.111111</td>\n",
       "      <td>0.100000</td>\n",
       "      <td>0.090909</td>\n",
       "    </tr>\n",
       "  </tbody>\n",
       "</table>\n",
       "</div>"
      ],
      "text/plain": [
       "          0         1         2         3         4         5\n",
       "0  1.000000  0.500000  0.333333  0.250000  0.200000  0.166667\n",
       "1  0.500000  0.333333  0.250000  0.200000  0.166667  0.142857\n",
       "2  0.333333  0.250000  0.200000  0.166667  0.142857  0.125000\n",
       "3  0.250000  0.200000  0.166667  0.142857  0.125000  0.111111\n",
       "4  0.200000  0.166667  0.142857  0.125000  0.111111  0.100000\n",
       "5  0.166667  0.142857  0.125000  0.111111  0.100000  0.090909"
      ]
     },
     "execution_count": 48,
     "metadata": {},
     "output_type": "execute_result"
    }
   ],
   "source": [
    "dfa = pd.DataFrame(a)\n",
    "dfa"
   ]
  },
  {
   "cell_type": "code",
   "execution_count": 40,
   "metadata": {},
   "outputs": [
    {
     "data": {
      "text/plain": [
       "[0.6666666666666667, 0.75, 0.8, 0.8333333333333334, 0.8571428571428572, 0.875]"
      ]
     },
     "execution_count": 40,
     "metadata": {},
     "output_type": "execute_result"
    }
   ],
   "source": [
    "b\n"
   ]
  },
  {
   "cell_type": "code",
   "execution_count": 53,
   "metadata": {},
   "outputs": [
    {
     "name": "stdout",
     "output_type": "stream",
     "text": [
      "                      --       cond(A)  round number        |x-~x|\n",
      "0  Спектральный критерий  2.907028e+07           NaN           NaN\n",
      "0      Объемный критерий  3.198561e+17           NaN           NaN\n",
      "0       Угловой критерий  6.561314e+05           NaN           NaN\n",
      "0                    NaN           NaN          10.0      0.725127\n",
      "0                    NaN           NaN           9.0      7.278866\n",
      "0                    NaN           NaN           8.0    335.486866\n",
      "0                    NaN           NaN           7.0   7513.451404\n",
      "0                    NaN           NaN           6.0  12305.350895\n",
      "0                    NaN           NaN           5.0   2878.977843\n",
      "0                    NaN           NaN           4.0   8830.219114\n",
      "0                    NaN           NaN           3.0   8836.413897\n",
      "0                    NaN           NaN           2.0   8687.027640\n",
      "0                    NaN           NaN           1.0   8696.044281\n"
     ]
    }
   ],
   "source": [
    "Filling(a,b)"
   ]
  }
 ],
 "metadata": {
  "interpreter": {
   "hash": "26de051ba29f2982a8de78e945f0abaf191376122a1563185a90213a26c5da77"
  },
  "kernelspec": {
   "display_name": "Python 3.10.4 64-bit",
   "language": "python",
   "name": "python3"
  },
  "language_info": {
   "codemirror_mode": {
    "name": "ipython",
    "version": 3
   },
   "file_extension": ".py",
   "mimetype": "text/x-python",
   "name": "python",
   "nbconvert_exporter": "python",
   "pygments_lexer": "ipython3",
   "version": "3.10.4"
  },
  "orig_nbformat": 4
 },
 "nbformat": 4,
 "nbformat_minor": 2
}
