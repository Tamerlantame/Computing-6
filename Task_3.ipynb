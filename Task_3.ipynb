{
 "cells": [
  {
   "cell_type": "code",
   "execution_count": 26,
   "metadata": {},
   "outputs": [],
   "source": [
    "import numpy as np\n",
    "import pandas as pd\n",
    "from scipy.linalg import solve"
   ]
  },
  {
   "cell_type": "code",
   "execution_count": 27,
   "metadata": {},
   "outputs": [],
   "source": [
    "def QRdec(A):\n",
    "    (r, c) = np.shape(A)\n",
    "    Q = np.identity(r)\n",
    "    R = np.copy(A)\n",
    "    (rows, cols) = np.tril_indices(r, -1, c)\n",
    "    for (row, col) in zip(rows, cols):\n",
    "        if R[row, col] != 0:\n",
    "            temp = np.sqrt(R[col, col]**2+R[row, col]**2)  \n",
    "            cos = R[col, col]/temp\n",
    "            sin = -R[row, col]/temp\n",
    "            T = np.identity(r)\n",
    "            T[[col, row], [col,row]] = cos\n",
    "            T[row, col] = sin\n",
    "            T[col, row] = -sin\n",
    "            R = T.dot(R)\n",
    "            Q = Q.dot(T.T)\n",
    "    return (Q, R)"
   ]
  },
  {
   "cell_type": "code",
   "execution_count": 43,
   "metadata": {},
   "outputs": [
    {
     "name": "stdout",
     "output_type": "stream",
     "text": [
      "[[ 0.89442719 -0.39036003  0.1983799  -0.09090909]\n",
      " [ 0.4472136   0.78072006 -0.3967598   0.18181818]\n",
      " [ 0.          0.48795004  0.7935196  -0.36363636]\n",
      " [ 0.          0.          0.41659779  0.90909091]]\n",
      "[[ 4.47213595e+00  4.02492236e+00  8.94427191e-01  0.00000000e+00]\n",
      " [ 0.00000000e+00  4.09878031e+00  4.48914034e+00  9.75900073e-01]\n",
      " [ 0.00000000e+00 -2.01858732e-16  4.80079359e+00  4.50322373e+00]\n",
      " [ 0.00000000e+00  9.25032918e-17  0.00000000e+00  5.63636364e+00]]\n"
     ]
    }
   ],
   "source": [
    "#LU test good\n",
    "a = np.array([[4,2,0,0],[2,5,2,0],[0,2,6,2],[0,0,2,7]])\n",
    "b=np.array([-0.393, -0.389,-0.393, -0.389])\n",
    "a\n",
    "Q=QRdec(a)[0]\n",
    "R=QRdec(a)[1]\n",
    "print(Q)\n",
    "print(R)\n",
    "#Q = np.dot(Q,Q.T)\n",
    "#print(Q)"
   ]
  },
  {
   "cell_type": "code",
   "execution_count": 29,
   "metadata": {},
   "outputs": [],
   "source": [
    "#returns array with cond number\n",
    "def Ncond(A):\n",
    "#spectral\n",
    "    normA=np.linalg.norm(A, ord=1)\n",
    "    A_1=np.linalg.inv(A)\n",
    "    normA_1=np.linalg.norm(A_1, ord=1)\n",
    "    conds=normA*normA_1\n",
    "#ortega\n",
    "    number=len(A)\n",
    "    condv=1\n",
    "    for i in range(number):\n",
    "        colsum=0\n",
    "        for j in range(number):\n",
    "            colsum=colsum+A[i][j]\n",
    "        colsum=np.sqrt(abs(colsum))\n",
    "        condv=condv*colsum\n",
    "    detA=abs(np.linalg.det(A))\n",
    "    condv=condv/detA\n",
    "#angle\n",
    "    pros=[]\n",
    "    for i in range(number):\n",
    "        Asum=0\n",
    "        A_1sum=0\n",
    "        for j in range(number):\n",
    "            Asum=Asum+A[i][j]*A[i][j]\n",
    "            A_1sum=Asum+A_1[i][j]*A_1[i][j]\n",
    "        pros.append(np.sqrt(Asum*A_1sum))\n",
    "    conda=max(pros)\n",
    "    \n",
    "    cond=[]\n",
    "    cond.append(conds)\n",
    "    cond.append(condv)\n",
    "    cond.append(conda)\n",
    "    return cond"
   ]
  },
  {
   "cell_type": "code",
   "execution_count": 30,
   "metadata": {},
   "outputs": [],
   "source": [
    "#cond numbers for A,Q,R\n",
    "def Filling(A):\n",
    "    Q=QRdec(A)[0]\n",
    "    R=QRdec(A)[1]\n",
    "    resA=Ncond(A)\n",
    "    resQ=Ncond(Q)\n",
    "    resR=Ncond(R)\n",
    "    conds=['spectral','volume','angular']\n",
    "    data = {'name':[],'cond': [], 'num': []}\n",
    "    df = pd.DataFrame(data)\n",
    "    \n",
    "    for j in range(3):\n",
    "        new_row = pd.DataFrame({'name':'A','cond':conds[j], 'num': resA[j]}, index=[0])\n",
    "        df = pd.concat([df, new_row], ignore_index= True)\n",
    "    for j in range(3):\n",
    "        new_row = pd.DataFrame({'name':'Q','cond':conds[j], 'num': resQ[j]}, index=[0])\n",
    "        df = pd.concat([df, new_row], ignore_index= True)\n",
    "    for j in range(3):\n",
    "        new_row = pd.DataFrame({'name':'R','cond':conds[j], 'num': resR[j]}, index=[0])\n",
    "        df = pd.concat([df, new_row], ignore_index= True)\n",
    "    \n",
    "    print(df)"
   ]
  },
  {
   "cell_type": "code",
   "execution_count": 31,
   "metadata": {},
   "outputs": [
    {
     "data": {
      "text/plain": [
       "array([[4, 2, 0, 0],\n",
       "       [2, 5, 2, 0],\n",
       "       [0, 2, 6, 2],\n",
       "       [0, 0, 2, 7]])"
      ]
     },
     "execution_count": 31,
     "metadata": {},
     "output_type": "execute_result"
    }
   ],
   "source": [
    "#LU test good\n",
    "a = np.array([[4,2,0,0],[2,5,2,0],[0,2,6,2],[0,0,2,7]])\n",
    "b=np.array([-0.393, -0.389,-0.393, -0.389])\n",
    "a"
   ]
  },
  {
   "cell_type": "code",
   "execution_count": 32,
   "metadata": {},
   "outputs": [
    {
     "name": "stdout",
     "output_type": "stream",
     "text": [
      "[[ 0.89442719 -0.39036003  0.1983799  -0.09090909]\n",
      " [ 0.4472136   0.78072006 -0.3967598   0.18181818]\n",
      " [ 0.          0.48795004  0.7935196  -0.36363636]\n",
      " [ 0.          0.          0.41659779  0.90909091]]\n",
      "[[ 4.47213595e+00  4.02492236e+00  8.94427191e-01  0.00000000e+00]\n",
      " [ 0.00000000e+00  4.09878031e+00  4.48914034e+00  9.75900073e-01]\n",
      " [ 0.00000000e+00 -2.01858732e-16  4.80079359e+00  4.50322373e+00]\n",
      " [ 0.00000000e+00  9.25032918e-17  0.00000000e+00  5.63636364e+00]]\n"
     ]
    }
   ],
   "source": [
    "Q=QRdec(a)[0]\n",
    "R=QRdec(a)[1]\n",
    "print(Q)\n",
    "print(R)"
   ]
  },
  {
   "cell_type": "code",
   "execution_count": 33,
   "metadata": {},
   "outputs": [
    {
     "name": "stdout",
     "output_type": "stream",
     "text": [
      "  name      cond        num\n",
      "0    A  spectral   6.048387\n",
      "1    A    volume   0.140552\n",
      "2    A   angular  53.013006\n",
      "3    Q  spectral   3.261218\n",
      "4    Q    volume   0.868195\n",
      "5    Q   angular   1.351461\n",
      "6    R  spectral   6.670395\n",
      "7    R    volume   0.138368\n",
      "8    R   angular  43.340489\n"
     ]
    }
   ],
   "source": [
    "Filling(a)"
   ]
  },
  {
   "cell_type": "code",
   "execution_count": 34,
   "metadata": {},
   "outputs": [
    {
     "name": "stdout",
     "output_type": "stream",
     "text": [
      "[-0.08466532 -0.02716935 -0.04191129 -0.04359677]\n",
      "[-0.08466532 -0.02716935 -0.04191129 -0.04359677]\n"
     ]
    }
   ],
   "source": [
    "x0=solve(a,b)\n",
    "z=solve(Q.dot(R),b)\n",
    "print(x0)\n",
    "print(z)"
   ]
  },
  {
   "cell_type": "code",
   "execution_count": 35,
   "metadata": {},
   "outputs": [
    {
     "data": {
      "text/plain": [
       "array([[1.  , 0.99],\n",
       "       [0.99, 0.98]])"
      ]
     },
     "execution_count": 35,
     "metadata": {},
     "output_type": "execute_result"
    }
   ],
   "source": [
    "#QR test not so good\n",
    "a = np.array([[1,0.99],[0.99,0.98]])\n",
    "b=np.array([-0.393, -0.389])\n",
    "a"
   ]
  },
  {
   "cell_type": "code",
   "execution_count": 36,
   "metadata": {},
   "outputs": [
    {
     "name": "stdout",
     "output_type": "stream",
     "text": [
      "[[ 0.71065111 -0.7035446 ]\n",
      " [ 0.7035446   0.71065111]]\n",
      "[[ 1.40716026e+00  1.39301830e+00]\n",
      " [-5.20162676e-18 -7.10651109e-05]]\n"
     ]
    }
   ],
   "source": [
    "Q=QRdec(a)[0]\n",
    "R=QRdec(a)[1]\n",
    "print(Q)\n",
    "print(R)"
   ]
  },
  {
   "cell_type": "code",
   "execution_count": 37,
   "metadata": {},
   "outputs": [
    {
     "name": "stdout",
     "output_type": "stream",
     "text": [
      "  name      cond           num\n",
      "0    A  spectral  39601.000000\n",
      "1    A    volume  19799.747473\n",
      "2    A   angular  13930.886724\n",
      "3    Q  spectral      1.999949\n",
      "4    Q    volume      0.100250\n",
      "5    Q   angular      1.226795\n",
      "6    R  spectral  39403.000000\n",
      "7    R    volume    141.065588\n",
      "8    R   angular  27582.466213\n"
     ]
    }
   ],
   "source": [
    "Filling(a)"
   ]
  },
  {
   "cell_type": "code",
   "execution_count": 38,
   "metadata": {},
   "outputs": [
    {
     "name": "stdout",
     "output_type": "stream",
     "text": [
      "[ 0.3 -0.7]\n",
      "[ 0.3 -0.7]\n"
     ]
    }
   ],
   "source": [
    "x0=solve(a,b)\n",
    "z=solve(Q.dot(R),b)\n",
    "print(x0)\n",
    "print(z)"
   ]
  },
  {
   "cell_type": "code",
   "execution_count": 39,
   "metadata": {},
   "outputs": [
    {
     "data": {
      "text/plain": [
       "array([[1.2969, 0.8648],\n",
       "       [0.2161, 0.1441]])"
      ]
     },
     "execution_count": 39,
     "metadata": {},
     "output_type": "execute_result"
    }
   ],
   "source": [
    "#QR test bad\n",
    "a = np.array([[1.2969, 0.8648],[0.2161,0.1441]])\n",
    "b=np.array([-0.393, -0.389])\n",
    "a"
   ]
  },
  {
   "cell_type": "code",
   "execution_count": 40,
   "metadata": {},
   "outputs": [
    {
     "name": "stdout",
     "output_type": "stream",
     "text": [
      "[[ 0.98640009 -0.16436199]\n",
      " [ 0.16436199  0.98640009]]\n",
      "[[ 1.31478090e+00  8.76723360e-01]\n",
      " [-2.27875153e-17  7.60582996e-09]]\n"
     ]
    }
   ],
   "source": [
    "Q=QRdec(a)[0]\n",
    "R=QRdec(a)[1]\n",
    "print(Q)\n",
    "print(R)"
   ]
  },
  {
   "cell_type": "code",
   "execution_count": 41,
   "metadata": {},
   "outputs": [
    {
     "name": "stdout",
     "output_type": "stream",
     "text": [
      "  name      cond           num\n",
      "0    A  spectral  3.270652e+08\n",
      "1    A    volume  8.824083e+07\n",
      "2    A   angular  1.348042e+08\n",
      "3    Q  spectral  1.324253e+00\n",
      "4    Q    volume  9.726100e-01\n",
      "5    Q   angular  1.404630e+00\n",
      "6    R  spectral  2.881348e+08\n",
      "7    R    volume  1.291054e+04\n",
      "8    R   angular  1.385471e+08\n"
     ]
    }
   ],
   "source": [
    "Filling(a)"
   ]
  },
  {
   "cell_type": "code",
   "execution_count": 42,
   "metadata": {},
   "outputs": [
    {
     "name": "stdout",
     "output_type": "stream",
     "text": [
      "[ 27977590.04349676 -41956680.06523005]\n",
      "[ 27977590.04349676 -41956680.06523005]\n"
     ]
    }
   ],
   "source": [
    "x0=solve(a,b)\n",
    "z=solve(Q.dot(R),b)\n",
    "print(x0)\n",
    "print(z)"
   ]
  }
 ],
 "metadata": {
  "interpreter": {
   "hash": "26de051ba29f2982a8de78e945f0abaf191376122a1563185a90213a26c5da77"
  },
  "kernelspec": {
   "display_name": "Python 3.10.4 64-bit",
   "language": "python",
   "name": "python3"
  },
  "language_info": {
   "codemirror_mode": {
    "name": "ipython",
    "version": 3
   },
   "file_extension": ".py",
   "mimetype": "text/x-python",
   "name": "python",
   "nbconvert_exporter": "python",
   "pygments_lexer": "ipython3",
   "version": "3.10.4"
  },
  "orig_nbformat": 4
 },
 "nbformat": 4,
 "nbformat_minor": 2
}
