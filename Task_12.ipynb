{
 "cells": [
  {
   "cell_type": "code",
   "execution_count": 7,
   "metadata": {},
   "outputs": [],
   "source": [
    "import numpy as np\n",
    "from scipy import misc\n",
    "\n",
    "from plotly import graph_objects"
   ]
  },
  {
   "cell_type": "code",
   "execution_count": 8,
   "metadata": {},
   "outputs": [],
   "source": [
    "def get_derivative(func, h):\n",
    "    return lambda x: misc.derivative(func, x, dx=h)\n",
    "\n",
    "def gradient_descent(func, x0, rate, rate_decrease, eps=10 ** (-8), max_iter=100):\n",
    "    \"\"\"\n",
    "    Gradient descent using step fragmentation strategy\n",
    "    \"\"\"\n",
    "    x = x0\n",
    "    points = [x0]\n",
    "    df = get_derivative(func, 1e-10)\n",
    "    grad = df(x0)\n",
    "    \n",
    "    while abs(grad) > eps:\n",
    "        grad = df(x)\n",
    "        \n",
    "        x = x - rate * grad\n",
    "        points.append(x)\n",
    "        \n",
    "        if len(points) > max_iter:\n",
    "            break\n",
    "    \n",
    "        rate = (1 - rate_decrease) * rate\n",
    "    \n",
    "    return x, points"
   ]
  },
  {
   "cell_type": "code",
   "execution_count": 9,
   "metadata": {},
   "outputs": [],
   "source": [
    "def nesterov_method(f, y0, jitter, eps=10**(-8), max_iter=100):\n",
    "    x = y0\n",
    "    y = y0\n",
    "    a = 1\n",
    "    df = get_derivative(f, 1e-10)\n",
    "    z = y - jitter\n",
    "    alpha = abs((y - z) / (df(y) - df(z)))\n",
    "    points = [x]\n",
    "\n",
    "    while abs(df(points[-1])) > eps:\n",
    "        i = 0\n",
    "        grad = df(y)\n",
    "        \n",
    "        while f(y) - f(y - 2 ** (-i) * alpha * grad) < 2 ** (- i - 1) * alpha * grad ** 2:\n",
    "            i += 1\n",
    "            if i >= 10**6:\n",
    "                print(f'Jump overflow at iteration {len(points)}')\n",
    "                return x, points\n",
    "\n",
    "        alpha = 2 ** (-i) * alpha\n",
    "        x = y - alpha * grad\n",
    "        points.append(x)\n",
    "        \n",
    "        if len(points) > max_iter:\n",
    "            break\n",
    "        prev_a = a\n",
    "        a = (1 + np.sqrt(4 * prev_a ** 2 + 1)) / 2\n",
    "        y = x + (prev_a - 1) * (x - points[-2]) / a\n",
    "    \n",
    "    return x, points"
   ]
  },
  {
   "cell_type": "code",
   "execution_count": 10,
   "metadata": {},
   "outputs": [],
   "source": [
    "def experiment(func, segment, rate, x0):\n",
    "    a, b = segment\n",
    "    grid = np.linspace(a, b, num=300)\n",
    "\n",
    "    x_min, points = gradient_descent(func, x0, rate, rate_decrease=0.02)\n",
    "    \n",
    "    fig1 = graph_objects.Figure()\n",
    "    fig1.add_trace(graph_objects.Scatter(x=points, y=[func(x) for x in points],mode='lines+markers'),)\n",
    "    fig1.add_trace(graph_objects.Scatter(x=grid, y=[func(x) for x in grid], mode='lines'))\n",
    "\n",
    "    fig1.update_layout(autosize=False, template=\"simple_white\", showlegend=False)\n",
    "    fig1.show()\n",
    "\n",
    "    print(\"Gradient descent: step fragmentation\")\n",
    "    print(f\"Found minimum: {x_min}\")\n",
    "    print(f\"Iterations: {len(points)}\")\n",
    "\n",
    "    x_min, points = nesterov_method(func, y0=0, jitter=0.1)\n",
    "\n",
    "    fig2 = graph_objects.Figure()\n",
    "    fig2.add_trace(graph_objects.Scatter(x=points, y=[func(x) for x in points],mode='lines+markers'))\n",
    "    fig2.add_trace(graph_objects.Scatter(x=grid, y=[func(x) for x in grid], mode='lines'))\n",
    "\n",
    "    fig2.update_layout(autosize=False, template=\"simple_white\", showlegend=False)\n",
    "    fig2.show()\n",
    "\n",
    "    print(\"Nesterov's method\")\n",
    "    print(f\"Found minimum: {x_min}\")\n",
    "    print(f\"Iterations: {len(points)}\")"
   ]
  },
  {
   "cell_type": "code",
   "execution_count": 11,
   "metadata": {},
   "outputs": [],
   "source": [
    "func = []\n",
    "func.append(lambda x: x * (x + 1) )\n",
    "func.append(lambda x: 3 * np.sin(x))\n",
    "func.append(lambda x: x * x * x - 5 * x)\n",
    "rate = [0.7,0.4,0.2]\n",
    "x0 = [-2,0,0]\n",
    "segments = [] \n",
    "segments.extend([(-10, 10),(-4, 4),(-2, 2)])"
   ]
  },
  {
   "cell_type": "code",
   "execution_count": 12,
   "metadata": {},
   "outputs": [
    {
     "ename": "ValueError",
     "evalue": "Mime type rendering requires nbformat>=4.2.0 but it is not installed",
     "output_type": "error",
     "traceback": [
      "\u001b[1;31m---------------------------------------------------------------------------\u001b[0m",
      "\u001b[1;31mValueError\u001b[0m                                Traceback (most recent call last)",
      "\u001b[1;32md:\\OneDrive - dggschools.dggschools\\Личное\\Университет\\Вычи\\6 sem\\My\\Computing-6\\Task_12.ipynb Cell 6'\u001b[0m in \u001b[0;36m<cell line: 1>\u001b[1;34m()\u001b[0m\n\u001b[1;32m----> <a href='vscode-notebook-cell:/d%3A/OneDrive%20-%20dggschools.dggschools/%D0%9B%D0%B8%D1%87%D0%BD%D0%BE%D0%B5/%D0%A3%D0%BD%D0%B8%D0%B2%D0%B5%D1%80%D1%81%D0%B8%D1%82%D0%B5%D1%82/%D0%92%D1%8B%D1%87%D0%B8/6%20sem/My/Computing-6/Task_12.ipynb#ch0000005?line=0'>1</a>\u001b[0m experiment(func[\u001b[39m0\u001b[39;49m], segments[\u001b[39m0\u001b[39;49m], rate[\u001b[39m0\u001b[39;49m], x0[\u001b[39m0\u001b[39;49m])\n",
      "\u001b[1;32md:\\OneDrive - dggschools.dggschools\\Личное\\Университет\\Вычи\\6 sem\\My\\Computing-6\\Task_12.ipynb Cell 4'\u001b[0m in \u001b[0;36mexperiment\u001b[1;34m(func, segment, rate, x0)\u001b[0m\n\u001b[0;32m      <a href='vscode-notebook-cell:/d%3A/OneDrive%20-%20dggschools.dggschools/%D0%9B%D0%B8%D1%87%D0%BD%D0%BE%D0%B5/%D0%A3%D0%BD%D0%B8%D0%B2%D0%B5%D1%80%D1%81%D0%B8%D1%82%D0%B5%D1%82/%D0%92%D1%8B%D1%87%D0%B8/6%20sem/My/Computing-6/Task_12.ipynb#ch0000003?line=8'>9</a>\u001b[0m fig1\u001b[39m.\u001b[39madd_trace(graph_objects\u001b[39m.\u001b[39mScatter(x\u001b[39m=\u001b[39mgrid, y\u001b[39m=\u001b[39m[func(x) \u001b[39mfor\u001b[39;00m x \u001b[39min\u001b[39;00m grid], mode\u001b[39m=\u001b[39m\u001b[39m'\u001b[39m\u001b[39mlines\u001b[39m\u001b[39m'\u001b[39m))\n\u001b[0;32m     <a href='vscode-notebook-cell:/d%3A/OneDrive%20-%20dggschools.dggschools/%D0%9B%D0%B8%D1%87%D0%BD%D0%BE%D0%B5/%D0%A3%D0%BD%D0%B8%D0%B2%D0%B5%D1%80%D1%81%D0%B8%D1%82%D0%B5%D1%82/%D0%92%D1%8B%D1%87%D0%B8/6%20sem/My/Computing-6/Task_12.ipynb#ch0000003?line=10'>11</a>\u001b[0m fig1\u001b[39m.\u001b[39mupdate_layout(autosize\u001b[39m=\u001b[39m\u001b[39mFalse\u001b[39;00m, template\u001b[39m=\u001b[39m\u001b[39m\"\u001b[39m\u001b[39msimple_white\u001b[39m\u001b[39m\"\u001b[39m, showlegend\u001b[39m=\u001b[39m\u001b[39mFalse\u001b[39;00m)\n\u001b[1;32m---> <a href='vscode-notebook-cell:/d%3A/OneDrive%20-%20dggschools.dggschools/%D0%9B%D0%B8%D1%87%D0%BD%D0%BE%D0%B5/%D0%A3%D0%BD%D0%B8%D0%B2%D0%B5%D1%80%D1%81%D0%B8%D1%82%D0%B5%D1%82/%D0%92%D1%8B%D1%87%D0%B8/6%20sem/My/Computing-6/Task_12.ipynb#ch0000003?line=11'>12</a>\u001b[0m fig1\u001b[39m.\u001b[39;49mshow()\n\u001b[0;32m     <a href='vscode-notebook-cell:/d%3A/OneDrive%20-%20dggschools.dggschools/%D0%9B%D0%B8%D1%87%D0%BD%D0%BE%D0%B5/%D0%A3%D0%BD%D0%B8%D0%B2%D0%B5%D1%80%D1%81%D0%B8%D1%82%D0%B5%D1%82/%D0%92%D1%8B%D1%87%D0%B8/6%20sem/My/Computing-6/Task_12.ipynb#ch0000003?line=13'>14</a>\u001b[0m \u001b[39mprint\u001b[39m(\u001b[39m\"\u001b[39m\u001b[39mGradient descent: step fragmentation\u001b[39m\u001b[39m\"\u001b[39m)\n\u001b[0;32m     <a href='vscode-notebook-cell:/d%3A/OneDrive%20-%20dggschools.dggschools/%D0%9B%D0%B8%D1%87%D0%BD%D0%BE%D0%B5/%D0%A3%D0%BD%D0%B8%D0%B2%D0%B5%D1%80%D1%81%D0%B8%D1%82%D0%B5%D1%82/%D0%92%D1%8B%D1%87%D0%B8/6%20sem/My/Computing-6/Task_12.ipynb#ch0000003?line=14'>15</a>\u001b[0m \u001b[39mprint\u001b[39m(\u001b[39mf\u001b[39m\u001b[39m\"\u001b[39m\u001b[39mFound minimum: \u001b[39m\u001b[39m{\u001b[39;00mx_min\u001b[39m}\u001b[39;00m\u001b[39m\"\u001b[39m)\n",
      "File \u001b[1;32m~\\AppData\\Roaming\\Python\\Python310\\site-packages\\plotly\\basedatatypes.py:3398\u001b[0m, in \u001b[0;36mBaseFigure.show\u001b[1;34m(self, *args, **kwargs)\u001b[0m\n\u001b[0;32m   <a href='file:///c%3A/Users/temur/AppData/Roaming/Python/Python310/site-packages/plotly/basedatatypes.py?line=3364'>3365</a>\u001b[0m \u001b[39m\"\"\"\u001b[39;00m\n\u001b[0;32m   <a href='file:///c%3A/Users/temur/AppData/Roaming/Python/Python310/site-packages/plotly/basedatatypes.py?line=3365'>3366</a>\u001b[0m \u001b[39mShow a figure using either the default renderer(s) or the renderer(s)\u001b[39;00m\n\u001b[0;32m   <a href='file:///c%3A/Users/temur/AppData/Roaming/Python/Python310/site-packages/plotly/basedatatypes.py?line=3366'>3367</a>\u001b[0m \u001b[39mspecified by the renderer argument\u001b[39;00m\n\u001b[1;32m   (...)\u001b[0m\n\u001b[0;32m   <a href='file:///c%3A/Users/temur/AppData/Roaming/Python/Python310/site-packages/plotly/basedatatypes.py?line=3393'>3394</a>\u001b[0m \u001b[39mNone\u001b[39;00m\n\u001b[0;32m   <a href='file:///c%3A/Users/temur/AppData/Roaming/Python/Python310/site-packages/plotly/basedatatypes.py?line=3394'>3395</a>\u001b[0m \u001b[39m\"\"\"\u001b[39;00m\n\u001b[0;32m   <a href='file:///c%3A/Users/temur/AppData/Roaming/Python/Python310/site-packages/plotly/basedatatypes.py?line=3395'>3396</a>\u001b[0m \u001b[39mimport\u001b[39;00m \u001b[39mplotly\u001b[39;00m\u001b[39m.\u001b[39;00m\u001b[39mio\u001b[39;00m \u001b[39mas\u001b[39;00m \u001b[39mpio\u001b[39;00m\n\u001b[1;32m-> <a href='file:///c%3A/Users/temur/AppData/Roaming/Python/Python310/site-packages/plotly/basedatatypes.py?line=3397'>3398</a>\u001b[0m \u001b[39mreturn\u001b[39;00m pio\u001b[39m.\u001b[39mshow(\u001b[39mself\u001b[39m, \u001b[39m*\u001b[39margs, \u001b[39m*\u001b[39m\u001b[39m*\u001b[39mkwargs)\n",
      "File \u001b[1;32m~\\AppData\\Roaming\\Python\\Python310\\site-packages\\plotly\\io\\_renderers.py:396\u001b[0m, in \u001b[0;36mshow\u001b[1;34m(fig, renderer, validate, **kwargs)\u001b[0m\n\u001b[0;32m    <a href='file:///c%3A/Users/temur/AppData/Roaming/Python/Python310/site-packages/plotly/io/_renderers.py?line=390'>391</a>\u001b[0m         \u001b[39mraise\u001b[39;00m \u001b[39mValueError\u001b[39;00m(\n\u001b[0;32m    <a href='file:///c%3A/Users/temur/AppData/Roaming/Python/Python310/site-packages/plotly/io/_renderers.py?line=391'>392</a>\u001b[0m             \u001b[39m\"\u001b[39m\u001b[39mMime type rendering requires ipython but it is not installed\u001b[39m\u001b[39m\"\u001b[39m\n\u001b[0;32m    <a href='file:///c%3A/Users/temur/AppData/Roaming/Python/Python310/site-packages/plotly/io/_renderers.py?line=392'>393</a>\u001b[0m         )\n\u001b[0;32m    <a href='file:///c%3A/Users/temur/AppData/Roaming/Python/Python310/site-packages/plotly/io/_renderers.py?line=394'>395</a>\u001b[0m     \u001b[39mif\u001b[39;00m \u001b[39mnot\u001b[39;00m nbformat \u001b[39mor\u001b[39;00m LooseVersion(nbformat\u001b[39m.\u001b[39m__version__) \u001b[39m<\u001b[39m LooseVersion(\u001b[39m\"\u001b[39m\u001b[39m4.2.0\u001b[39m\u001b[39m\"\u001b[39m):\n\u001b[1;32m--> <a href='file:///c%3A/Users/temur/AppData/Roaming/Python/Python310/site-packages/plotly/io/_renderers.py?line=395'>396</a>\u001b[0m         \u001b[39mraise\u001b[39;00m \u001b[39mValueError\u001b[39;00m(\n\u001b[0;32m    <a href='file:///c%3A/Users/temur/AppData/Roaming/Python/Python310/site-packages/plotly/io/_renderers.py?line=396'>397</a>\u001b[0m             \u001b[39m\"\u001b[39m\u001b[39mMime type rendering requires nbformat>=4.2.0 but it is not installed\u001b[39m\u001b[39m\"\u001b[39m\n\u001b[0;32m    <a href='file:///c%3A/Users/temur/AppData/Roaming/Python/Python310/site-packages/plotly/io/_renderers.py?line=397'>398</a>\u001b[0m         )\n\u001b[0;32m    <a href='file:///c%3A/Users/temur/AppData/Roaming/Python/Python310/site-packages/plotly/io/_renderers.py?line=399'>400</a>\u001b[0m     ipython_display\u001b[39m.\u001b[39mdisplay(bundle, raw\u001b[39m=\u001b[39m\u001b[39mTrue\u001b[39;00m)\n\u001b[0;32m    <a href='file:///c%3A/Users/temur/AppData/Roaming/Python/Python310/site-packages/plotly/io/_renderers.py?line=401'>402</a>\u001b[0m \u001b[39m# external renderers\u001b[39;00m\n",
      "\u001b[1;31mValueError\u001b[0m: Mime type rendering requires nbformat>=4.2.0 but it is not installed"
     ]
    }
   ],
   "source": [
    "experiment(func[0], segments[0], rate[0], x0[0])\n",
    "\n"
   ]
  }
 ],
 "metadata": {
  "interpreter": {
   "hash": "26de051ba29f2982a8de78e945f0abaf191376122a1563185a90213a26c5da77"
  },
  "kernelspec": {
   "display_name": "Python 3.10.4 64-bit",
   "language": "python",
   "name": "python3"
  },
  "language_info": {
   "codemirror_mode": {
    "name": "ipython",
    "version": 3
   },
   "file_extension": ".py",
   "mimetype": "text/x-python",
   "name": "python",
   "nbconvert_exporter": "python",
   "pygments_lexer": "ipython3",
   "version": "3.10.4"
  },
  "orig_nbformat": 4
 },
 "nbformat": 4,
 "nbformat_minor": 2
}
