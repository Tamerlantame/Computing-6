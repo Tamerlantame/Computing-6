{
 "cells": [
  {
   "cell_type": "code",
   "execution_count": 28,
   "metadata": {},
   "outputs": [],
   "source": [
    "import numpy as np\n",
    "import pandas as pd\n",
    "from scipy.linalg import solve"
   ]
  },
  {
   "cell_type": "code",
   "execution_count": 29,
   "metadata": {},
   "outputs": [],
   "source": [
    "#LU Разложение L part\n",
    "def HaussL(A):\n",
    "    f=np.linalg.det(A)\n",
    "    if f!=0:\n",
    "        number=len(A)\n",
    "        An_1=np.array([[0.0 for j in range(number)] for i in range(number)])\n",
    "        for i in range (len(A)):\n",
    "            for j in range(len(A)):\n",
    "                An_1[i,j]=A[i,j]\n",
    "        lmatr=np.diag(np.full(number,1))\n",
    "\n",
    "        for i in range(number):\n",
    "            mi=np.array([[0.0 for m in range(number)] for k in range(number)])\n",
    "            mi_1=np.array([[0.0 for m in range(number)] for k in range(number)])\n",
    "            for j in range(i+1,number):\n",
    "                mi[j,i]=-An_1[j,i]/An_1[i,i]\n",
    "                mi_1[j,i]=An_1[j,i]/An_1[i,i]\n",
    "            for k in range (number):\n",
    "                mi[k,k]=1\n",
    "                mi_1[k,k]=1\n",
    "            An_1=mi.dot(An_1)\n",
    "            lmatr=lmatr.dot(mi_1)\n",
    "        return lmatr"
   ]
  },
  {
   "cell_type": "code",
   "execution_count": 30,
   "metadata": {},
   "outputs": [],
   "source": [
    "#LU Разложение U \n",
    "def HaussU(A):\n",
    "    f=np.linalg.det(A)\n",
    "    if f!=0:\n",
    "        number=len(A)\n",
    "        An_1=np.array([[0.0 for j in range(number)] for i in range(number)])\n",
    "        for i in range (len(A)):\n",
    "            for j in range(len(A)):\n",
    "                An_1[i,j]=A[i,j]\n",
    "\n",
    "        for i in range(number):\n",
    "            mi=np.array([[0.0 for m in range(number)] for k in range(number)])\n",
    "            for j in range(i+1,number):\n",
    "                mi[j,i]=-An_1[j,i]/An_1[i,i]\n",
    "            for k in range (number):\n",
    "                mi[k,k]=1\n",
    "            An_1=mi.dot(An_1)\n",
    "        return An_1"
   ]
  },
  {
   "cell_type": "code",
   "execution_count": 31,
   "metadata": {},
   "outputs": [],
   "source": [
    "def Ncond(A):\n",
    "#Спектральный критерий обусловленности\n",
    "    normA=np.linalg.norm(A, ord=1)\n",
    "    A_1=np.linalg.inv(A)\n",
    "    normA_1=np.linalg.norm(A_1, ord=1)\n",
    "    conds=normA*normA_1\n",
    "#Объемный критерий (критерий Ортеги)\n",
    "    number=len(A)\n",
    "    condv=1\n",
    "    for i in range(number):\n",
    "        colsum=0\n",
    "        for j in range(number):\n",
    "            colsum=colsum+A[i][j]\n",
    "        colsum=np.sqrt(colsum)\n",
    "        condv=condv*colsum\n",
    "    detA=abs(np.linalg.det(A))\n",
    "    condv=condv/detA\n",
    "#Угловой критерий\n",
    "    pros=[]\n",
    "    for i in range(number):\n",
    "        Asum=0\n",
    "        A_1sum=0\n",
    "        for j in range(number):\n",
    "            Asum=Asum+A[i][j]*A[i][j]\n",
    "            A_1sum=Asum+A_1[i][j]*A_1[i][j]\n",
    "        pros.append(np.sqrt(Asum*A_1sum))\n",
    "    conda=max(pros)\n",
    "    \n",
    "    cond=[]\n",
    "    cond.append(conds)\n",
    "    cond.append(condv)\n",
    "    cond.append(conda)\n",
    "    return cond"
   ]
  },
  {
   "cell_type": "code",
   "execution_count": 32,
   "metadata": {},
   "outputs": [],
   "source": [
    "#cond для A,L,U\n",
    "def Filling(A):\n",
    "    U=HaussU(A)\n",
    "    L=HaussL(A)\n",
    "    resA=Ncond(A)\n",
    "    resL=Ncond(L)\n",
    "    resU=Ncond(U)\n",
    "    conds=['spectral','volume','angular']\n",
    "    data = {'name':[],'cond': [], 'num': []}\n",
    "    df = pd.DataFrame(data)\n",
    "    \n",
    "    for j in range(3):\n",
    "        new_row = pd.DataFrame({'name':'A','cond':conds[j], 'num': resA[j]}, index = [0])\n",
    "        df = pd.concat([df, new_row])\n",
    "    for j in range(3):\n",
    "        new_row = pd.DataFrame({'name':'L','cond':conds[j], 'num': resL[j]}, index = [0])\n",
    "        df = pd.concat([df, new_row])\n",
    "    for j in range(3):\n",
    "        new_row = pd.DataFrame({'name':'U','cond':conds[j], 'num': resU[j]}, index = [0])\n",
    "        df = pd.concat([df, new_row])\n",
    "    \n",
    "    print(df)"
   ]
  },
  {
   "cell_type": "code",
   "execution_count": 56,
   "metadata": {},
   "outputs": [],
   "source": [
    "#Регуляризация\n",
    "def Reg(A,x0):\n",
    "    data = {'alpha': [],'spectral':[],'volume': [], 'angular': [],'||x-x~||':[]}\n",
    "    df = pd.DataFrame(data)\n",
    "    u=a.dot(x0)\n",
    "    for number in range(12,0,-1):\n",
    "#16\n",
    "#a*a+alphaE\n",
    "        acon=np.matrix.conjugate(A)\n",
    "        e=np.diag(np.full(len(A),1))\n",
    "        alpha=10**(-(number))\n",
    "        lp=A.dot(acon)+alpha*e\n",
    "        res=Ncond(lp)\n",
    "\n",
    "#a*u\n",
    "        rp=acon.dot(u)\n",
    "\n",
    "#\n",
    "        z1=solve(lp,rp)\n",
    "        f=z1-x0\n",
    "        new_row = pd.DataFrame({'alpha': alpha,'spectral':res[0],'volume': res[1], 'angular': res[2],'||x-x~||':np.linalg.norm(f, ord=1)}, index = [0])\n",
    "        df=pd.concat([df, new_row])\n",
    "    print (df)"
   ]
  },
  {
   "cell_type": "code",
   "execution_count": 34,
   "metadata": {},
   "outputs": [
    {
     "data": {
      "text/plain": [
       "array([[4, 2, 0, 0],\n",
       "       [2, 5, 2, 0],\n",
       "       [0, 2, 6, 2],\n",
       "       [0, 0, 2, 7]])"
      ]
     },
     "execution_count": 34,
     "metadata": {},
     "output_type": "execute_result"
    }
   ],
   "source": [
    "#LU test good\n",
    "a = np.array([[4,2,0,0],[2,5,2,0],[0,2,6,2],[0,0,2,7]])\n",
    "b=np.array([-0.393, -0.389,-0.393, -0.389])\n",
    "a"
   ]
  },
  {
   "cell_type": "code",
   "execution_count": 35,
   "metadata": {},
   "outputs": [
    {
     "data": {
      "text/plain": [
       "array([[4. , 2. , 0. , 0. ],\n",
       "       [0. , 4. , 2. , 0. ],\n",
       "       [0. , 0. , 5. , 2. ],\n",
       "       [0. , 0. , 0. , 6.2]])"
      ]
     },
     "execution_count": 35,
     "metadata": {},
     "output_type": "execute_result"
    }
   ],
   "source": [
    "U=HaussU(a)\n",
    "U"
   ]
  },
  {
   "cell_type": "code",
   "execution_count": 36,
   "metadata": {},
   "outputs": [
    {
     "data": {
      "text/plain": [
       "array([[1. , 0. , 0. , 0. ],\n",
       "       [0.5, 1. , 0. , 0. ],\n",
       "       [0. , 0.5, 1. , 0. ],\n",
       "       [0. , 0. , 0.4, 1. ]])"
      ]
     },
     "execution_count": 36,
     "metadata": {},
     "output_type": "execute_result"
    }
   ],
   "source": [
    "L=HaussL(a)\n",
    "L"
   ]
  },
  {
   "cell_type": "code",
   "execution_count": 37,
   "metadata": {},
   "outputs": [
    {
     "name": "stdout",
     "output_type": "stream",
     "text": [
      "  name      cond        num\n",
      "0    A  spectral   6.048387\n",
      "0    A    volume   0.140552\n",
      "0    A   angular  53.013006\n",
      "0    L  spectral   2.775000\n",
      "0    L    volume   1.774824\n",
      "0    L   angular   1.582909\n",
      "0    U  spectral   3.075000\n",
      "0    U    volume   0.079692\n",
      "0    U   angular  38.453005\n"
     ]
    }
   ],
   "source": [
    "Filling(a)"
   ]
  },
  {
   "cell_type": "code",
   "execution_count": 38,
   "metadata": {},
   "outputs": [
    {
     "name": "stdout",
     "output_type": "stream",
     "text": [
      "[-0.08466532 -0.02716935 -0.04191129 -0.04359677]\n",
      "[-0.08466532 -0.02716935 -0.04191129 -0.04359677]\n"
     ]
    }
   ],
   "source": [
    "x0=solve(a,b)\n",
    "z=solve(L.dot(U),b)\n",
    "print(x0)\n",
    "print(z)"
   ]
  },
  {
   "cell_type": "code",
   "execution_count": 39,
   "metadata": {},
   "outputs": [
    {
     "data": {
      "text/plain": [
       "array([[1.  , 0.99],\n",
       "       [0.99, 0.98]])"
      ]
     },
     "execution_count": 39,
     "metadata": {},
     "output_type": "execute_result"
    }
   ],
   "source": [
    "#LU test not so good\n",
    "a = np.array([[1,0.99],[0.99,0.98]])\n",
    "b=np.array([-0.393, -0.389])\n",
    "a"
   ]
  },
  {
   "cell_type": "code",
   "execution_count": 40,
   "metadata": {},
   "outputs": [
    {
     "data": {
      "text/plain": [
       "array([[ 1.0e+00,  9.9e-01],\n",
       "       [ 0.0e+00, -1.0e-04]])"
      ]
     },
     "execution_count": 40,
     "metadata": {},
     "output_type": "execute_result"
    }
   ],
   "source": [
    "U=HaussU(a)\n",
    "U"
   ]
  },
  {
   "cell_type": "code",
   "execution_count": 41,
   "metadata": {},
   "outputs": [
    {
     "data": {
      "text/plain": [
       "array([[1.  , 0.  ],\n",
       "       [0.99, 1.  ]])"
      ]
     },
     "execution_count": 41,
     "metadata": {},
     "output_type": "execute_result"
    }
   ],
   "source": [
    "L=HaussL(a)\n",
    "L"
   ]
  },
  {
   "cell_type": "code",
   "execution_count": 55,
   "metadata": {},
   "outputs": [
    {
     "name": "stdout",
     "output_type": "stream",
     "text": [
      "  name      cond            num\n",
      "0    A  spectral   9.087772e+18\n",
      "0    A    volume  4.623343e+272\n",
      "0    A   angular   5.492804e+15\n",
      "0    L  spectral   1.626193e+06\n",
      "0    L    volume   2.152743e+27\n",
      "0    L   angular   2.334559e+07\n",
      "0    U  spectral   1.462044e+18\n",
      "0    U    volume            NaN\n",
      "0    U   angular   4.936996e+11\n"
     ]
    },
    {
     "name": "stderr",
     "output_type": "stream",
     "text": [
      "C:\\Users\\temur\\AppData\\Local\\Temp\\ipykernel_13984\\3363458092.py:14: RuntimeWarning: invalid value encountered in sqrt\n",
      "  colsum=np.sqrt(colsum)\n"
     ]
    }
   ],
   "source": [
    "Filling(a)"
   ]
  },
  {
   "cell_type": "code",
   "execution_count": 43,
   "metadata": {},
   "outputs": [
    {
     "name": "stdout",
     "output_type": "stream",
     "text": [
      "[ 0.3 -0.7]\n",
      "[ 0.3 -0.7]\n"
     ]
    }
   ],
   "source": [
    "x0=solve(a,b)\n",
    "z=solve(L.dot(U),b)\n",
    "print(x0)\n",
    "print(z)"
   ]
  },
  {
   "cell_type": "code",
   "execution_count": 44,
   "metadata": {},
   "outputs": [
    {
     "data": {
      "text/plain": [
       "array([[1.2969, 0.8648],\n",
       "       [0.2161, 0.1441]])"
      ]
     },
     "execution_count": 44,
     "metadata": {},
     "output_type": "execute_result"
    }
   ],
   "source": [
    "#LU test bad\n",
    "a = np.array([[1.2969, 0.8648],[0.2161,0.1441]])\n",
    "b=np.array([-0.393, -0.389])\n",
    "a"
   ]
  },
  {
   "cell_type": "code",
   "execution_count": 45,
   "metadata": {},
   "outputs": [
    {
     "data": {
      "text/plain": [
       "array([[1.29690000e+00, 8.64800000e-01],\n",
       "       [0.00000000e+00, 7.71069472e-09]])"
      ]
     },
     "execution_count": 45,
     "metadata": {},
     "output_type": "execute_result"
    }
   ],
   "source": [
    "U=HaussU(a)\n",
    "U"
   ]
  },
  {
   "cell_type": "code",
   "execution_count": 46,
   "metadata": {},
   "outputs": [
    {
     "data": {
      "text/plain": [
       "array([[1.        , 0.        ],\n",
       "       [0.16662811, 1.        ]])"
      ]
     },
     "execution_count": 46,
     "metadata": {},
     "output_type": "execute_result"
    }
   ],
   "source": [
    "L=HaussL(a)\n",
    "L"
   ]
  },
  {
   "cell_type": "code",
   "execution_count": 47,
   "metadata": {},
   "outputs": [
    {
     "name": "stdout",
     "output_type": "stream",
     "text": [
      "  name      cond           num\n",
      "0    A  spectral  3.270652e+08\n",
      "0    A    volume  8.824083e+07\n",
      "0    A   angular  1.348042e+08\n",
      "0    L  spectral  1.361021e+00\n",
      "0    L    volume  1.080106e+00\n",
      "0    L   angular  1.443629e+00\n",
      "0    U  spectral  2.803509e+08\n",
      "0    U    volume  1.291054e+04\n",
      "0    U   angular  1.348042e+08\n"
     ]
    }
   ],
   "source": [
    "Filling(a)"
   ]
  },
  {
   "cell_type": "code",
   "execution_count": 48,
   "metadata": {},
   "outputs": [
    {
     "name": "stdout",
     "output_type": "stream",
     "text": [
      "[ 27977590.04349676 -41956680.06523005]\n",
      "[ 27977590.04349676 -41956680.06523005]\n"
     ]
    }
   ],
   "source": [
    "x0=solve(a,b)\n",
    "z=solve(L.dot(U),b)\n",
    "print(x0)\n",
    "print(z)"
   ]
  },
  {
   "cell_type": "code",
   "execution_count": 49,
   "metadata": {},
   "outputs": [],
   "source": [
    "#hilbert n=20\n",
    "number=20\n",
    "a = np.array([[0.0 for j in range(number)] for i in range(number)])\n",
    "for i in range (number):\n",
    "    for j in range(number):\n",
    "        a[i,j]=1/(i+j+1)\n",
    "x0=np.array([1 for k in range(number)])"
   ]
  },
  {
   "cell_type": "code",
   "execution_count": 57,
   "metadata": {},
   "outputs": [
    {
     "name": "stdout",
     "output_type": "stream",
     "text": [
      "          alpha      spectral         volume       angular    ||x-x~||\n",
      "0  1.000000e-12  1.924675e+13  7.391975e+248  1.487133e+11    1.498381\n",
      "0  1.000000e-11  1.930439e+12  1.067044e+231  1.591492e+10    2.195514\n",
      "0  1.000000e-10  1.907981e+11  6.663428e+212  1.698589e+09    3.676230\n",
      "0  1.000000e-09  1.952613e+10  1.257452e+194  1.817868e+08    6.369290\n",
      "0  1.000000e-08  1.916848e+09  9.319742e+174  1.908242e+07    9.308517\n",
      "0  1.000000e-07  1.932425e+08  2.099746e+155  2.022134e+06   17.033163\n",
      "0  1.000000e-06  1.907831e+07  1.660214e+135  2.101761e+05   23.793829\n",
      "0  1.000000e-05  1.886254e+06  3.864156e+114  2.197008e+04   42.362813\n",
      "0  1.000000e-04  1.845183e+05   2.863766e+93  2.264730e+03   58.842102\n",
      "0  1.000000e-03  1.766724e+04   5.750809e+71  2.335262e+02   94.518352\n",
      "0  1.000000e-02  1.793646e+03   3.432243e+49  2.395824e+01  131.960086\n",
      "0  1.000000e-01  1.824189e+02   8.113033e+26  6.032629e+00  184.560829\n"
     ]
    }
   ],
   "source": [
    "Reg(a,x0)"
   ]
  },
  {
   "cell_type": "code",
   "execution_count": 58,
   "metadata": {},
   "outputs": [
    {
     "name": "stdout",
     "output_type": "stream",
     "text": [
      "          alpha      spectral         volume       angular    ||x-x~||\n",
      "0  1.000000e-12  1.924675e+13  7.391975e+248  1.487133e+11    1.498381\n",
      "0  1.000000e-11  1.930439e+12  1.067044e+231  1.591492e+10    2.195514\n",
      "0  1.000000e-10  1.907981e+11  6.663428e+212  1.698589e+09    3.676230\n",
      "0  1.000000e-09  1.952613e+10  1.257452e+194  1.817868e+08    6.369290\n",
      "0  1.000000e-08  1.916848e+09  9.319742e+174  1.908242e+07    9.308517\n",
      "0  1.000000e-07  1.932425e+08  2.099746e+155  2.022134e+06   17.033163\n",
      "0  1.000000e-06  1.907831e+07  1.660214e+135  2.101761e+05   23.793829\n",
      "0  1.000000e-05  1.886254e+06  3.864156e+114  2.197008e+04   42.362813\n",
      "0  1.000000e-04  1.845183e+05   2.863766e+93  2.264730e+03   58.842102\n",
      "0  1.000000e-03  1.766724e+04   5.750809e+71  2.335262e+02   94.518352\n",
      "0  1.000000e-02  1.793646e+03   3.432243e+49  2.395824e+01  131.960086\n",
      "0  1.000000e-01  1.824189e+02   8.113033e+26  6.032629e+00  184.560829\n"
     ]
    }
   ],
   "source": [
    "x0=np.array([k for k in range(number)])\n",
    "Reg(a,x0)"
   ]
  },
  {
   "cell_type": "code",
   "execution_count": 59,
   "metadata": {},
   "outputs": [
    {
     "name": "stdout",
     "output_type": "stream",
     "text": [
      "          alpha      spectral         volume       angular  ||x-x~||\n",
      "0  1.000000e-12  1.924675e+13  7.391975e+248  1.487133e+11  0.011638\n",
      "0  1.000000e-11  1.930439e+12  1.067044e+231  1.591492e+10  0.017415\n",
      "0  1.000000e-10  1.907981e+11  6.663428e+212  1.698589e+09  0.033495\n",
      "0  1.000000e-09  1.952613e+10  1.257452e+194  1.817868e+08  0.060420\n",
      "0  1.000000e-08  1.916848e+09  9.319742e+174  1.908242e+07  0.101768\n",
      "0  1.000000e-07  1.932425e+08  2.099746e+155  2.022134e+06  0.199656\n",
      "0  1.000000e-06  1.907831e+07  1.660214e+135  2.101761e+05  0.319476\n",
      "0  1.000000e-05  1.886254e+06  3.864156e+114  2.197008e+04  0.631298\n",
      "0  1.000000e-04  1.845183e+05   2.863766e+93  2.264730e+03  1.055381\n",
      "0  1.000000e-03  1.766724e+04   5.750809e+71  2.335262e+02  1.950202\n",
      "0  1.000000e-02  1.793646e+03   3.432243e+49  2.395824e+01  3.650405\n",
      "0  1.000000e-01  1.824189e+02   8.113033e+26  6.032629e+00  6.308056\n"
     ]
    }
   ],
   "source": [
    "#hilbert  n=25\n",
    "number=25\n",
    "a = np.array([[0.0 for j in range(number)] for i in range(number)])\n",
    "for i in range (number):\n",
    "    for j in range(number):\n",
    "        a[i,j]=1/(i+j+1)\n",
    "x0=np.array([1 for k in range(number)])\n",
    "Reg(a,x0)"
   ]
  },
  {
   "cell_type": "code",
   "execution_count": 53,
   "metadata": {},
   "outputs": [],
   "source": [
    "x0=np.array([k for k in range(number)])"
   ]
  },
  {
   "cell_type": "code",
   "execution_count": 60,
   "metadata": {},
   "outputs": [
    {
     "name": "stdout",
     "output_type": "stream",
     "text": [
      "          alpha      spectral         volume       angular  ||x-x~||\n",
      "0  1.000000e-12  1.924675e+13  7.391975e+248  1.487133e+11  0.011638\n",
      "0  1.000000e-11  1.930439e+12  1.067044e+231  1.591492e+10  0.017415\n",
      "0  1.000000e-10  1.907981e+11  6.663428e+212  1.698589e+09  0.033495\n",
      "0  1.000000e-09  1.952613e+10  1.257452e+194  1.817868e+08  0.060420\n",
      "0  1.000000e-08  1.916848e+09  9.319742e+174  1.908242e+07  0.101768\n",
      "0  1.000000e-07  1.932425e+08  2.099746e+155  2.022134e+06  0.199656\n",
      "0  1.000000e-06  1.907831e+07  1.660214e+135  2.101761e+05  0.319476\n",
      "0  1.000000e-05  1.886254e+06  3.864156e+114  2.197008e+04  0.631298\n",
      "0  1.000000e-04  1.845183e+05   2.863766e+93  2.264730e+03  1.055381\n",
      "0  1.000000e-03  1.766724e+04   5.750809e+71  2.335262e+02  1.950202\n",
      "0  1.000000e-02  1.793646e+03   3.432243e+49  2.395824e+01  3.650405\n",
      "0  1.000000e-01  1.824189e+02   8.113033e+26  6.032629e+00  6.308056\n"
     ]
    }
   ],
   "source": [
    "Reg(a,x0)"
   ]
  }
 ],
 "metadata": {
  "interpreter": {
   "hash": "26de051ba29f2982a8de78e945f0abaf191376122a1563185a90213a26c5da77"
  },
  "kernelspec": {
   "display_name": "Python 3.10.4 64-bit",
   "language": "python",
   "name": "python3"
  },
  "language_info": {
   "codemirror_mode": {
    "name": "ipython",
    "version": 3
   },
   "file_extension": ".py",
   "mimetype": "text/x-python",
   "name": "python",
   "nbconvert_exporter": "python",
   "pygments_lexer": "ipython3",
   "version": "3.10.4"
  },
  "orig_nbformat": 4
 },
 "nbformat": 4,
 "nbformat_minor": 2
}
